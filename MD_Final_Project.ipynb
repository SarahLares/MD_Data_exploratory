{
  "nbformat": 4,
  "nbformat_minor": 0,
  "metadata": {
    "colab": {
      "name": "MD_Final_Project.ipynb",
      "provenance": [],
      "authorship_tag": "ABX9TyP4UtXy/DTyZSm/HcrG4cwx",
      "include_colab_link": true
    },
    "kernelspec": {
      "name": "python3",
      "display_name": "Python 3"
    }
  },
  "cells": [
    {
      "cell_type": "markdown",
      "metadata": {
        "id": "view-in-github",
        "colab_type": "text"
      },
      "source": [
        "<a href=\"https://colab.research.google.com/github/SarahLares/MD_Data_exploratory/blob/master/MD_Final_Project.ipynb\" target=\"_parent\"><img src=\"https://colab.research.google.com/assets/colab-badge.svg\" alt=\"Open In Colab\"/></a>"
      ]
    },
    {
      "cell_type": "code",
      "metadata": {
        "id": "7YJIjMWTe-W3",
        "colab_type": "code",
        "colab": {}
      },
      "source": [
        "import pandas as pd\n",
        "import numpy as np"
      ],
      "execution_count": 0,
      "outputs": []
    },
    {
      "cell_type": "code",
      "metadata": {
        "id": "bNGtpWOngueI",
        "colab_type": "code",
        "colab": {}
      },
      "source": [
        "url_graduados = 'https://raw.githubusercontent.com/SarahLares/MD_Data_exploratory/master/graduados.csv'\n",
        "url_estudiantes = 'https://raw.githubusercontent.com/SarahLares/MD_Data_exploratory/master/estudiantes.csv'\n",
        "url_b = 'https://raw.githubusercontent.com/SarahLares/MD_Data_exploratory/master/carrera_52.csv'\n",
        "url_n = 'https://raw.githubusercontent.com/SarahLares/MD_Data_exploratory/master/carrera_53.csv'"
      ],
      "execution_count": 0,
      "outputs": []
    },
    {
      "cell_type": "code",
      "metadata": {
        "id": "TVaT5sJyh5jL",
        "colab_type": "code",
        "outputId": "dbf2b558-ce81-4d11-c060-dd3f14e0511c",
        "colab": {
          "base_uri": "https://localhost:8080/",
          "height": 85
        }
      },
      "source": [
        "grad = pd.read_csv(url_graduados,delimiter=';')\n",
        "grad.count()"
      ],
      "execution_count": 7,
      "outputs": [
        {
          "output_type": "execute_result",
          "data": {
            "text/plain": [
              "id         44929\n",
              "Fecha      44929\n",
              "MENCION    44929\n",
              "dtype: int64"
            ]
          },
          "metadata": {
            "tags": []
          },
          "execution_count": 7
        }
      ]
    },
    {
      "cell_type": "code",
      "metadata": {
        "id": "NbTAkvUvi3Tu",
        "colab_type": "code",
        "outputId": "387e385c-01fd-4224-d6a3-0fe12141e2bf",
        "colab": {
          "base_uri": "https://localhost:8080/",
          "height": 34
        }
      },
      "source": [
        "est = pd.read_csv(url_estudiantes,delimiter=';')\n",
        "est.count()"
      ],
      "execution_count": 9,
      "outputs": [
        {
          "output_type": "execute_result",
          "data": {
            "text/plain": [
              "(201375, 6)"
            ]
          },
          "metadata": {
            "tags": []
          },
          "execution_count": 9
        }
      ]
    },
    {
      "cell_type": "markdown",
      "metadata": {
        "id": "xEY_drCpcSVx",
        "colab_type": "text"
      },
      "source": [
        "Solo hay valores faltantes en los estudiantes de bioanálisis."
      ]
    },
    {
      "cell_type": "code",
      "metadata": {
        "id": "AMws_icZjLtH",
        "colab_type": "code",
        "outputId": "ebf5ad4e-f6bf-4d42-9e61-61084b021db8",
        "colab": {
          "base_uri": "https://localhost:8080/",
          "height": 238
        }
      },
      "source": [
        "bio = pd.read_csv(url_b,delimiter=';')\n",
        "bio.count()"
      ],
      "execution_count": 14,
      "outputs": [
        {
          "output_type": "execute_result",
          "data": {
            "text/plain": [
              "estudiante_id          24111\n",
              "codigo                 24111\n",
              "nombre                 24111\n",
              "uc                     24085\n",
              "notaf                  24110\n",
              "notad                  24111\n",
              "tipoexamen             24111\n",
              "seccion                24111\n",
              "equivalenciainterna    24111\n",
              "nombre.1               24111\n",
              "ano                    24111\n",
              "nombre.2               24111\n",
              "dtype: int64"
            ]
          },
          "metadata": {
            "tags": []
          },
          "execution_count": 14
        }
      ]
    },
    {
      "cell_type": "code",
      "metadata": {
        "id": "ldUTDNZFjTvN",
        "colab_type": "code",
        "outputId": "2ebf880c-859c-4526-dcee-d2757a75e977",
        "colab": {
          "base_uri": "https://localhost:8080/",
          "height": 238
        }
      },
      "source": [
        "nut = pd.read_csv(url_n,delimiter=';')\n",
        "nut.count()"
      ],
      "execution_count": 16,
      "outputs": [
        {
          "output_type": "execute_result",
          "data": {
            "text/plain": [
              "estudiante_id          25534\n",
              "codigo                 25534\n",
              "nombre                 25534\n",
              "uc                     25534\n",
              "notaf                  25534\n",
              "notad                  25534\n",
              "tipoexamen             25534\n",
              "seccion                25534\n",
              "equivalenciainterna    25534\n",
              "nombre.1               25534\n",
              "ano                    25534\n",
              "nombre.2               25534\n",
              "dtype: int64"
            ]
          },
          "metadata": {
            "tags": []
          },
          "execution_count": 16
        }
      ]
    }
  ]
}