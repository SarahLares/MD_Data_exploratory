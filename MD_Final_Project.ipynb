{
  "nbformat": 4,
  "nbformat_minor": 0,
  "metadata": {
    "colab": {
      "name": "MD_Final_Project.ipynb",
      "provenance": [],
      "authorship_tag": "ABX9TyPml+FOqk5AU/Fb08Hj0jj0",
      "include_colab_link": true
    },
    "kernelspec": {
      "name": "python3",
      "display_name": "Python 3"
    }
  },
  "cells": [
    {
      "cell_type": "markdown",
      "metadata": {
        "id": "view-in-github",
        "colab_type": "text"
      },
      "source": [
        "<a href=\"https://colab.research.google.com/github/SarahLares/MD_Data_exploratory/blob/master/MD_Final_Project.ipynb\" target=\"_parent\"><img src=\"https://colab.research.google.com/assets/colab-badge.svg\" alt=\"Open In Colab\"/></a>"
      ]
    },
    {
      "cell_type": "code",
      "metadata": {
        "id": "7YJIjMWTe-W3",
        "colab_type": "code",
        "colab": {}
      },
      "source": [
        "import pandas as pd\n",
        "import numpy as np"
      ],
      "execution_count": 0,
      "outputs": []
    },
    {
      "cell_type": "code",
      "metadata": {
        "id": "bNGtpWOngueI",
        "colab_type": "code",
        "colab": {}
      },
      "source": [
        "url_graduados = 'https://raw.githubusercontent.com/SarahLares/MD_Data_exploratory/master/graduados.csv'\n",
        "url_estudiantes = 'https://raw.githubusercontent.com/SarahLares/MD_Data_exploratory/master/estudiantes.csv'\n",
        "url_b = 'https://raw.githubusercontent.com/SarahLares/MD_Data_exploratory/master/carrera_52.csv'\n",
        "url_n = 'https://raw.githubusercontent.com/SarahLares/MD_Data_exploratory/master/carrera_53.csv'"
      ],
      "execution_count": 0,
      "outputs": []
    },
    {
      "cell_type": "code",
      "metadata": {
        "id": "TVaT5sJyh5jL",
        "colab_type": "code",
        "outputId": "70884cae-2940-446a-d12a-0806642e16fc",
        "colab": {
          "base_uri": "https://localhost:8080/",
          "height": 34
        }
      },
      "source": [
        "grad = pd.read_csv(url_graduados,delimiter=';')\n",
        "grad.columns"
      ],
      "execution_count": 4,
      "outputs": [
        {
          "output_type": "execute_result",
          "data": {
            "text/plain": [
              "Index(['id', 'Fecha', 'MENCION'], dtype='object')"
            ]
          },
          "metadata": {
            "tags": []
          },
          "execution_count": 4
        }
      ]
    },
    {
      "cell_type": "code",
      "metadata": {
        "id": "NbTAkvUvi3Tu",
        "colab_type": "code",
        "outputId": "ec71eebc-4532-4b47-9c15-a44263a107f0",
        "colab": {
          "base_uri": "https://localhost:8080/",
          "height": 34
        }
      },
      "source": [
        "est = pd.read_csv(url_estudiantes,delimiter=';')\n",
        "est.columns"
      ],
      "execution_count": 5,
      "outputs": [
        {
          "output_type": "execute_result",
          "data": {
            "text/plain": [
              "Index(['id', 'letradi', 'tipodi_id', 'anoing', 'fechanac', 'sexo'], dtype='object')"
            ]
          },
          "metadata": {
            "tags": []
          },
          "execution_count": 5
        }
      ]
    },
    {
      "cell_type": "markdown",
      "metadata": {
        "id": "xEY_drCpcSVx",
        "colab_type": "text"
      },
      "source": [
        "Solo hay valores faltantes en los estudiantes de bioanálisis."
      ]
    },
    {
      "cell_type": "code",
      "metadata": {
        "id": "AMws_icZjLtH",
        "colab_type": "code",
        "outputId": "af5be4df-ebd2-4d45-d777-363b4eda7193",
        "colab": {
          "base_uri": "https://localhost:8080/",
          "height": 238
        }
      },
      "source": [
        "df_bioanalisis = pd.read_csv(url_b,delimiter=';')\n",
        "df_bioanalisis.isnull().sum()"
      ],
      "execution_count": 47,
      "outputs": [
        {
          "output_type": "execute_result",
          "data": {
            "text/plain": [
              "estudiante_id           0\n",
              "codigo                  0\n",
              "nombre                  0\n",
              "uc                     26\n",
              "notaf                   1\n",
              "notad                   0\n",
              "tipoexamen              0\n",
              "seccion                 0\n",
              "equivalenciainterna     0\n",
              "nombre.1                0\n",
              "ano                     0\n",
              "nombre.2                0\n",
              "dtype: int64"
            ]
          },
          "metadata": {
            "tags": []
          },
          "execution_count": 47
        }
      ]
    },
    {
      "cell_type": "code",
      "metadata": {
        "id": "3d3wBQdIAenc",
        "colab_type": "code",
        "colab": {
          "base_uri": "https://localhost:8080/",
          "height": 238
        },
        "outputId": "5ee7de22-4b56-4f85-a008-7428827c1f38"
      },
      "source": [
        "df_nutricion = pd.read_csv(url_n,delimiter=';')\n",
        "df_nutricion.isnull().sum()"
      ],
      "execution_count": 52,
      "outputs": [
        {
          "output_type": "execute_result",
          "data": {
            "text/plain": [
              "estudiante_id          0\n",
              "codigo                 0\n",
              "nombre                 0\n",
              "uc                     0\n",
              "notaf                  0\n",
              "notad                  0\n",
              "tipoexamen             0\n",
              "seccion                0\n",
              "equivalenciainterna    0\n",
              "nombre.1               0\n",
              "ano                    0\n",
              "nombre.2               0\n",
              "dtype: int64"
            ]
          },
          "metadata": {
            "tags": []
          },
          "execution_count": 52
        }
      ]
    },
    {
      "cell_type": "markdown",
      "metadata": {
        "id": "X4-eWX6N3F8X",
        "colab_type": "text"
      },
      "source": [
        "Podemos eliminar la columna de las **uc** que posiblemente no sirvan de nada"
      ]
    },
    {
      "cell_type": "code",
      "metadata": {
        "id": "mndKPiyS2-Hs",
        "colab_type": "code",
        "colab": {
          "base_uri": "https://localhost:8080/",
          "height": 134
        },
        "outputId": "e606d105-f174-42ef-ea39-2c19d8eebafd"
      },
      "source": [
        "df_bioanalisis.loc[df_bioanalisis.notaf.isnull()]"
      ],
      "execution_count": 48,
      "outputs": [
        {
          "output_type": "execute_result",
          "data": {
            "text/html": [
              "<div>\n",
              "<style scoped>\n",
              "    .dataframe tbody tr th:only-of-type {\n",
              "        vertical-align: middle;\n",
              "    }\n",
              "\n",
              "    .dataframe tbody tr th {\n",
              "        vertical-align: top;\n",
              "    }\n",
              "\n",
              "    .dataframe thead th {\n",
              "        text-align: right;\n",
              "    }\n",
              "</style>\n",
              "<table border=\"1\" class=\"dataframe\">\n",
              "  <thead>\n",
              "    <tr style=\"text-align: right;\">\n",
              "      <th></th>\n",
              "      <th>estudiante_id</th>\n",
              "      <th>codigo</th>\n",
              "      <th>nombre</th>\n",
              "      <th>uc</th>\n",
              "      <th>notaf</th>\n",
              "      <th>notad</th>\n",
              "      <th>tipoexamen</th>\n",
              "      <th>seccion</th>\n",
              "      <th>equivalenciainterna</th>\n",
              "      <th>nombre.1</th>\n",
              "      <th>ano</th>\n",
              "      <th>nombre.2</th>\n",
              "    </tr>\n",
              "  </thead>\n",
              "  <tbody>\n",
              "    <tr>\n",
              "      <th>22722</th>\n",
              "      <td>107780</td>\n",
              "      <td>0902003460</td>\n",
              "      <td>MATEMATICAS II</td>\n",
              "      <td>4.0</td>\n",
              "      <td>NaN</td>\n",
              "      <td>04</td>\n",
              "      <td>R</td>\n",
              "      <td>A</td>\n",
              "      <td>f</td>\n",
              "      <td>2016-02S</td>\n",
              "      <td>2016</td>\n",
              "      <td>LICENCIADO EN BIOANÁLISIS</td>\n",
              "    </tr>\n",
              "  </tbody>\n",
              "</table>\n",
              "</div>"
            ],
            "text/plain": [
              "       estudiante_id      codigo  ...   ano                   nombre.2\n",
              "22722         107780  0902003460  ...  2016  LICENCIADO EN BIOANÁLISIS\n",
              "\n",
              "[1 rows x 12 columns]"
            ]
          },
          "metadata": {
            "tags": []
          },
          "execution_count": 48
        }
      ]
    },
    {
      "cell_type": "markdown",
      "metadata": {
        "id": "NBfJx36x5Otn",
        "colab_type": "text"
      },
      "source": [
        "Podemos observar que a uno le falta la nota final y que fue a reparación y sacó 04 entonces le voy a poner 04 en la **notaf**"
      ]
    },
    {
      "cell_type": "code",
      "metadata": {
        "id": "TCNH8QyR56g8",
        "colab_type": "code",
        "colab": {}
      },
      "source": [
        "df_bioanalisis['notaf'] = df_bioanalisis.replace(to_replace= np.nan,value = 4)"
      ],
      "execution_count": 0,
      "outputs": []
    },
    {
      "cell_type": "code",
      "metadata": {
        "id": "-eStVqN-_L_H",
        "colab_type": "code",
        "colab": {
          "base_uri": "https://localhost:8080/",
          "height": 238
        },
        "outputId": "731bf8c1-1164-4ee8-b44b-53dcba8a14e0"
      },
      "source": [
        "df_bioanalisis.isnull().sum()"
      ],
      "execution_count": 51,
      "outputs": [
        {
          "output_type": "execute_result",
          "data": {
            "text/plain": [
              "estudiante_id           0\n",
              "codigo                  0\n",
              "nombre                  0\n",
              "uc                     26\n",
              "notaf                   0\n",
              "notad                   0\n",
              "tipoexamen              0\n",
              "seccion                 0\n",
              "equivalenciainterna     0\n",
              "nombre.1                0\n",
              "ano                     0\n",
              "nombre.2                0\n",
              "dtype: int64"
            ]
          },
          "metadata": {
            "tags": []
          },
          "execution_count": 51
        }
      ]
    }
  ]
}